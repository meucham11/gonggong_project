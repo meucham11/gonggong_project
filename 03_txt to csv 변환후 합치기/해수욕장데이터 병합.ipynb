{
 "cells": [
  {
   "cell_type": "code",
   "execution_count": 1,
   "metadata": {},
   "outputs": [],
   "source": [
    "import os\n",
    "import pandas as pd\n"
   ]
  },
  {
   "cell_type": "code",
   "execution_count": 2,
   "metadata": {},
   "outputs": [],
   "source": [
    "url='D:\\\\jupyter_proj\\\\gongbig\\\\해수욕장이용객'\n",
    "out_url='D:\\\\jupyter_proj\\\\gongbig\\\\해수욕장이용객'\n",
    "os.chdir(url)\n",
    "folder_list=os.listdir('.')\n",
    "beach_list=[f for f in folder_list if f.endswith(\".csv\")]"
   ]
  },
  {
   "cell_type": "code",
   "execution_count": 3,
   "metadata": {},
   "outputs": [
    {
     "name": "stdout",
     "output_type": "stream",
     "text": [
      "거제두모몽돌해변.csv 끝\n",
      "마산봉암갯벌.csv 끝\n",
      "영덕 고래불해변.csv 끝\n",
      "울산대왕암.csv 끝\n",
      "울주 진하해변.csv 끝\n",
      "울진 후정.csv 끝\n",
      "통영 망일봉.csv 끝\n",
      "포항 구룡포해변.csv 끝\n",
      "포항 칠포.csv 끝\n"
     ]
    }
   ],
   "source": [
    "df=pd.DataFrame()\n",
    "for i in beach_list:\n",
    "    try:\n",
    "        buffer = pd.read_csv(i,encoding='cp949')\n",
    "    except:\n",
    "        buffer = pd.read_csv(i,encoding='utf-8')\n",
    "    df=pd.concat([df,buffer])\n",
    "    print(i,'끝')\n",
    "df.to_csv(out_url+'/merge_beach.csv',encoding='cp949')\n",
    "    "
   ]
  }
 ],
 "metadata": {
  "kernelspec": {
   "display_name": "Python 3",
   "language": "python",
   "name": "python3"
  },
  "language_info": {
   "codemirror_mode": {
    "name": "ipython",
    "version": 3
   },
   "file_extension": ".py",
   "mimetype": "text/x-python",
   "name": "python",
   "nbconvert_exporter": "python",
   "pygments_lexer": "ipython3",
   "version": "3.7.6"
  }
 },
 "nbformat": 4,
 "nbformat_minor": 4
}
