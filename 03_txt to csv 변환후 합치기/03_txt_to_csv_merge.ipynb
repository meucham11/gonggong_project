{
 "cells": [
  {
   "cell_type": "code",
   "execution_count": 3,
   "metadata": {},
   "outputs": [],
   "source": [
    "import math\n",
    "import os\n",
    "import pandas as pd\n",
    "import numpy as np"
   ]
  },
  {
   "cell_type": "code",
   "execution_count": 20,
   "metadata": {},
   "outputs": [],
   "source": [
    "folder_list=['거제도','마산','부산','울산','통영','포항','후포']\n",
    "url='C:\\\\Users\\\\User\\\\BigData\\\\bigdata\\\\project\\\\data\\\\풍향'"
   ]
  },
  {
   "cell_type": "code",
   "execution_count": 22,
   "metadata": {},
   "outputs": [],
   "source": [
    "for f in folder_list:\n",
    "    os.chdir(url+'\\\\'+f)\n",
    "    txt_list=os.listdir('.')\n",
    "    df=pd.DataFrame()\n",
    "    for txt in txt_list:\n",
    "        buffer=pd.read_csv(txt,header=3)\n",
    "        buffer.to_csv(txt[:-4]+'.csv',encoding='cp949',index=None)\n",
    "        data=pd.read_csv(txt[:-4]+'.csv',delimiter = '\\t',encoding='cp949')\n",
    "        data=data[['관측시간','수온(℃)','풍속(m/s)','풍향(deg)','기온(℃)']]\n",
    "        df=pd.concat([df,data])\n",
    "    df.to_csv(url+'\\\\'+f+'.csv',encoding='cp949')"
   ]
  },
  {
   "cell_type": "code",
   "execution_count": 23,
   "metadata": {},
   "outputs": [],
   "source": [
    "# 데이터를 돌리면서 month_avg에 보내준다.\n",
    "os.chdir(url)\n",
    "file_list=os.listdir('.')\n",
    "csv_list=[f for f in file_list if f.endswith(\".csv\")]"
   ]
  },
  {
   "cell_type": "code",
   "execution_count": 24,
   "metadata": {},
   "outputs": [
    {
     "data": {
      "text/plain": [
       "['거제도.csv', '마산.csv', '부산.csv', '울산.csv', '통영.csv', '포항.csv', '후포.csv']"
      ]
     },
     "execution_count": 24,
     "metadata": {},
     "output_type": "execute_result"
    }
   ],
   "source": [
    "csv_list"
   ]
  },
  {
   "cell_type": "code",
   "execution_count": 25,
   "metadata": {},
   "outputs": [],
   "source": [
    "#for\n",
    "df=pd.DataFrame()"
   ]
  },
  {
   "cell_type": "code",
   "execution_count": 26,
   "metadata": {},
   "outputs": [
    {
     "name": "stderr",
     "output_type": "stream",
     "text": [
      "<ipython-input-26-24e8c58641b6>:9: SettingWithCopyWarning: \n",
      "A value is trying to be set on a copy of a slice from a DataFrame.\n",
      "Try using .loc[row_indexer,col_indexer] = value instead\n",
      "\n",
      "See the caveats in the documentation: https://pandas.pydata.org/pandas-docs/stable/user_guide/indexing.html#returning-a-view-versus-a-copy\n",
      "  k['풍향(deg)']=pd.to_numeric(k['풍향(deg)'])\n"
     ]
    },
    {
     "name": "stdout",
     "output_type": "stream",
     "text": [
      "거제도.csv\n",
      "마산.csv\n",
      "부산.csv\n"
     ]
    },
    {
     "name": "stderr",
     "output_type": "stream",
     "text": [
      "C:\\Users\\User\\anaconda3\\lib\\site-packages\\IPython\\core\\interactiveshell.py:3071: DtypeWarning: Columns (2,3,4,5) have mixed types.Specify dtype option on import or set low_memory=False.\n",
      "  has_raised = await self.run_ast_nodes(code_ast.body, cell_name,\n"
     ]
    },
    {
     "name": "stdout",
     "output_type": "stream",
     "text": [
      "울산.csv\n",
      "통영.csv\n",
      "포항.csv\n",
      "후포.csv\n"
     ]
    }
   ],
   "source": [
    "for i in csv_list:\n",
    "    d=pd.read_csv('./'+i,encoding='cp949')\n",
    "    d['관측시간']=pd.to_datetime(d['관측시간'])\n",
    "    d['year']=d['관측시간'].dt.year\n",
    "    d['month']=d['관측시간'].dt.month\n",
    "    d=d[d['풍향(deg)']!='-']\n",
    "\n",
    "    k=d[['관측시간','year','month','풍향(deg)']]\n",
    "    k['풍향(deg)']=pd.to_numeric(k['풍향(deg)'])\n",
    "\n",
    "    avg_v=k['풍향(deg)'].groupby([k['year'],k['month']]).mean()\n",
    "    mean_dir_df=pd.DataFrame(avg_v).reset_index()\n",
    "    \n",
    "    mean_dir_df['지역']=i\n",
    "    \n",
    "    df=pd.concat([df,mean_dir_df])\n",
    "    print(i)\n",
    "\n",
    "    \n",
    "   "
   ]
  },
  {
   "cell_type": "code",
   "execution_count": 29,
   "metadata": {},
   "outputs": [],
   "source": [
    "df2=df.reset_index()"
   ]
  },
  {
   "cell_type": "code",
   "execution_count": 29,
   "metadata": {},
   "outputs": [],
   "source": []
  },
  {
   "cell_type": "code",
   "execution_count": 30,
   "metadata": {},
   "outputs": [],
   "source": [
    "df2.to_csv('avg_wind_dir.csv',encoding='cp949')"
   ]
  }
 ],
 "metadata": {
  "kernelspec": {
   "display_name": "Python 3",
   "language": "python",
   "name": "python3"
  },
  "language_info": {
   "codemirror_mode": {
    "name": "ipython",
    "version": 3
   },
   "file_extension": ".py",
   "mimetype": "text/x-python",
   "name": "python",
   "nbconvert_exporter": "python",
   "pygments_lexer": "ipython3",
   "version": "3.8.3"
  }
 },
 "nbformat": 4,
 "nbformat_minor": 4
}
