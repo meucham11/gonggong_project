{
 "cells": [
  {
   "cell_type": "code",
   "execution_count": 2,
   "metadata": {},
   "outputs": [],
   "source": [
    "import os\n",
    "import pandas as pd"
   ]
  },
  {
   "cell_type": "code",
   "execution_count": 3,
   "metadata": {},
   "outputs": [],
   "source": [
    "os.chdir(\"C:\\\\Users\\\\User\\\\BigData\\\\bigdata\\\\project\")"
   ]
  },
  {
   "cell_type": "code",
   "execution_count": 4,
   "metadata": {},
   "outputs": [],
   "source": [
    "trash_filter=pd.read_csv(\"trash_filter.csv\",encoding='cp949')"
   ]
  },
  {
   "cell_type": "code",
   "execution_count": null,
   "metadata": {},
   "outputs": [],
   "source": [
    "# 차수를 월로 변경 (열이름까지 수정)\n",
    "trash_filter.columns\n",
    "cha_month={'1차':1,\n",
    "          '2차':3,\n",
    "          '3차':5,\n",
    "          '4차':7,\n",
    "          '5차':9,\n",
    "          '6차':11}\n",
    "trash_filter['차수']=trash_filter.replace({\"차수\":cha_month})['차수']\n",
    "trash_filter_col=list(trash_filter.columns)\n",
    "trash_filter_col[2]='월'\n",
    "trash_filter.columns=trash_filter_col"
   ]
  },
  {
   "cell_type": "code",
   "execution_count": null,
   "metadata": {},
   "outputs": [],
   "source": [
    "#측정소 채워넣기\n",
    "where_get=list(trash_filter['수거장소'].unique())\n",
    "측정소=['통영','울산','후포','부산','거제도','포항','포항','울산','후포','마산']\n",
    "get_wind_map=dict(zip(where_get,측정소))\n",
    "trash_filter['측정소']=trash_filter.replace({\"수거장소\":get_wind_map})[\"수거장소\"]"
   ]
  },
  {
   "cell_type": "code",
   "execution_count": null,
   "metadata": {},
   "outputs": [],
   "source": [
    "trash_filter.to_csv('trash_filter.csv',encoding='cp949',index=False)"
   ]
  },
  {
   "cell_type": "code",
   "execution_count": null,
   "metadata": {},
   "outputs": [],
   "source": []
  }
 ],
 "metadata": {
  "kernelspec": {
   "display_name": "Python 3",
   "language": "python",
   "name": "python3"
  },
  "language_info": {
   "codemirror_mode": {
    "name": "ipython",
    "version": 3
   },
   "file_extension": ".py",
   "mimetype": "text/x-python",
   "name": "python",
   "nbconvert_exporter": "python",
   "pygments_lexer": "ipython3",
   "version": "3.8.3"
  }
 },
 "nbformat": 4,
 "nbformat_minor": 4
}
