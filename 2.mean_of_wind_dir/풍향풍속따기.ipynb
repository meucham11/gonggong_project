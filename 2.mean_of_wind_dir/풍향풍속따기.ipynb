{
 "cells": [
  {
   "cell_type": "code",
   "execution_count": 18,
   "metadata": {},
   "outputs": [],
   "source": [
    "import os\n",
    "import pandas as pd\n",
    "import datetime as dt\n",
    "import math\n",
    "import numpy as np"
   ]
  },
  {
   "cell_type": "code",
   "execution_count": 11,
   "metadata": {},
   "outputs": [],
   "source": [
    "folder_list=['거제도','마산','부산','울산','통영','포항','후포']"
   ]
  },
  {
   "cell_type": "code",
   "execution_count": 127,
   "metadata": {},
   "outputs": [],
   "source": [
    "for f in folder_list:\n",
    "    os.chdir('D:/jupyter_proj/gongbig/풍향/'+f)\n",
    "    txt_list=os.listdir('.')\n",
    "    df=pd.DataFrame()\n",
    "    for txt in txt_list:\n",
    "        buffer=pd.read_csv(txt,header=3)\n",
    "        buffer.to_csv(txt[:-4]+'.csv',encoding='cp949',index=None)\n",
    "        data=pd.read_csv(txt[:-4]+'.csv',delimiter = '\\t',encoding='cp949')\n",
    "        data=data[['관측시간','수온(℃)','풍속(m/s)','풍향(deg)','기온(℃)']]\n",
    "        df=pd.concat([df,data])\n",
    "    df.to_csv('D:/jupyter_proj/gongbig/풍향/'+f+'.csv',encoding='cp949')"
   ]
  },
  {
   "cell_type": "code",
   "execution_count": null,
   "metadata": {},
   "outputs": [],
   "source": []
  },
  {
   "cell_type": "markdown",
   "metadata": {},
   "source": [
    "# 월별 평균 풍향 구하기"
   ]
  },
  {
   "cell_type": "code",
   "execution_count": 3,
   "metadata": {},
   "outputs": [],
   "source": [
    "# 데이터를 돌리면서 month_avg에 보내준다.\n",
    "os.chdir('D:/jupyter_proj/gongbig/풍향')\n",
    "file_list=os.listdir('.')\n",
    "csv_list=[f for f in file_list if f.endswith(\".csv\")]\n",
    "\n",
    "\n",
    "#for\n",
    "for i in csv_list:\n",
    "    d=pd.read_csv('./'+i,encoding='cp949')\n",
    "    d['관측시간']=pd.to_datetime(d['관측시간'])\n",
    "    d['year']=d['관측시간'].dt.year\n",
    "    d['month']=d['관측시간'].dt.month\n",
    "    d=d[d['풍향(deg)']!='-']\n",
    "    \n",
    "    k=d[['year','month','풍향(deg)']]\n",
    "    k['v']=k['풍향(deg)'].apply(math.sin)\n",
    "    k['u']=k['풍향(deg)'].apply(math.cos)\n",
    "    \n",
    "    avg_v=k['v'].groupby([k['year'],k['month']]).mean()\n",
    "    avg_u=k['u'].groupby([k['year'],k['month']]).mean()\n",
    "    \n",
    "    #결과\n",
    "    np.arctan(np.array(avg_u)/np.array(avg_v))*180/math.pi\n",
    "    "
   ]
  },
  {
   "cell_type": "code",
   "execution_count": 63,
   "metadata": {},
   "outputs": [],
   "source": []
  },
  {
   "cell_type": "code",
   "execution_count": null,
   "metadata": {},
   "outputs": [],
   "source": []
  }
 ],
 "metadata": {
  "kernelspec": {
   "display_name": "Python 3",
   "language": "python",
   "name": "python3"
  },
  "language_info": {
   "codemirror_mode": {
    "name": "ipython",
    "version": 3
   },
   "file_extension": ".py",
   "mimetype": "text/x-python",
   "name": "python",
   "nbconvert_exporter": "python",
   "pygments_lexer": "ipython3",
   "version": "3.7.6"
  }
 },
 "nbformat": 4,
 "nbformat_minor": 4
}
