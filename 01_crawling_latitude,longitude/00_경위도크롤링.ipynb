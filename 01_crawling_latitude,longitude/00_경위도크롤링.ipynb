{
 "cells": [
  {
   "cell_type": "code",
   "execution_count": 1,
   "metadata": {},
   "outputs": [],
   "source": [
    "import os\n",
    "os.getcwd()\n",
    "os.chdir('C:\\\\Users\\\\User\\\\BigData\\\\bigdata\\\\project')"
   ]
  },
  {
   "cell_type": "code",
   "execution_count": 2,
   "metadata": {},
   "outputs": [],
   "source": [
    "from selenium.webdriver import Chrome\n",
    "from selenium import webdriver\n",
    "import time\n",
    "import sqlite3\n",
    "from pandas.io import sql\n",
    "import os\n",
    "import pandas as pd\n",
    "import re\n",
    "from selenium.webdriver.common.keys import Keys\n",
    "import time"
   ]
  },
  {
   "cell_type": "code",
   "execution_count": 6,
   "metadata": {},
   "outputs": [],
   "source": [
    "def open_browser(location_list):\n",
    "    options = webdriver.ChromeOptions()\n",
    "    options.add_argument(\"--start-maximized\");\n",
    "    browser = webdriver.Chrome('chromedriver', options=options)\n",
    "    browser.get(\"https://www.google.com/maps/?hl=ko\")\n",
    "    time.sleep(4)\n",
    "    print(\"클릭전\")\n",
    "    \n",
    "    browser.find_element_by_xpath('//*[@id=\"searchboxinput\"]').click()\n",
    "    print(\"클릭함\")\n",
    "  \n",
    "    df_list = []\n",
    "    for i in location_list:\n",
    "        length=len(i)\n",
    "        print(i)\n",
    "        time.sleep(2)\n",
    "        browser.find_element_by_xpath('//*[@id=\"searchboxinput\"]').send_keys(i)\n",
    "        browser.find_element_by_xpath('//*[@id=\"searchbox-searchbutton\"]').click()\n",
    "        \n",
    "        \n",
    "        time.sleep(5)\n",
    "        \n",
    "        url=browser.current_url\n",
    "        lilong=re.search(r'@.*,.*,',url).group(0)\n",
    "        lilong=lilong[1:]\n",
    "        latitude, longitude = lilong.split(\",\")[0:2]\n",
    "\n",
    "        df = pd.DataFrame({\n",
    "            '지역':[i],\n",
    "            '위도':[latitude],\n",
    "            '경도':[longitude]\n",
    "            \n",
    "        })\n",
    "        df_list.append(df)\n",
    "        print(i,'넣음')\n",
    "        \n",
    "        element=browser.find_element_by_xpath('//*[@id=\"searchboxinput\"]')\n",
    "        element.click()\n",
    "       \n",
    "        for i in range(len(i)+1):\n",
    "            element.send_keys(Keys.BACKSPACE)\n",
    "            element.send_keys(Keys.DELETE)\n",
    "        \n",
    "    print(\"끝\")\n",
    "    return pd.concat(df_list)"
   ]
  },
  {
   "cell_type": "code",
   "execution_count": 9,
   "metadata": {},
   "outputs": [],
   "source": [
    "trash_19=pd.read_csv(\"data/trash_19.csv\",encoding='cp949')"
   ]
  },
  {
   "cell_type": "code",
   "execution_count": 7,
   "metadata": {},
   "outputs": [],
   "source": [
    "where19=list(set(trash_19['지역']))"
   ]
  },
  {
   "cell_type": "code",
   "execution_count": null,
   "metadata": {},
   "outputs": [],
   "source": [
    "d=open_browser(where)"
   ]
  },
  {
   "cell_type": "code",
   "execution_count": 1,
   "metadata": {},
   "outputs": [
    {
     "ename": "NameError",
     "evalue": "name 'd' is not defined",
     "output_type": "error",
     "traceback": [
      "\u001b[1;31m---------------------------------------------------------------------------\u001b[0m",
      "\u001b[1;31mNameError\u001b[0m                                 Traceback (most recent call last)",
      "\u001b[1;32m<ipython-input-1-e983f374794d>\u001b[0m in \u001b[0;36m<module>\u001b[1;34m\u001b[0m\n\u001b[1;32m----> 1\u001b[1;33m \u001b[0md\u001b[0m\u001b[1;33m\u001b[0m\u001b[1;33m\u001b[0m\u001b[0m\n\u001b[0m",
      "\u001b[1;31mNameError\u001b[0m: name 'd' is not defined"
     ]
    }
   ],
   "source": [
    "d"
   ]
  },
  {
   "cell_type": "code",
   "execution_count": 8,
   "metadata": {},
   "outputs": [],
   "source": [
    "trash_18=pd.read_csv(\"data/trash_18.csv\",encoding='cp949')"
   ]
  },
  {
   "cell_type": "code",
   "execution_count": 5,
   "metadata": {},
   "outputs": [],
   "source": [
    "where18=list(set(trash_18['지역']))"
   ]
  },
  {
   "cell_type": "code",
   "execution_count": 24,
   "metadata": {},
   "outputs": [],
   "source": [
    "trashdd=pd.read_csv(\"data/trash_lalong_19.csv\",encoding='cp949')\n",
    "df=trashdd[['지역','위도','경도']].drop_duplicates()"
   ]
  },
  {
   "cell_type": "code",
   "execution_count": 25,
   "metadata": {},
   "outputs": [],
   "source": [
    "dic_latitude=dict(zip(df['지역'],df['위도']))\n",
    "dic_longitude=dict(zip(df['지역'],df['경도']))"
   ]
  },
  {
   "cell_type": "code",
   "execution_count": 26,
   "metadata": {},
   "outputs": [],
   "source": [
    "trash_18['위도']=trash_18.replace({\"지역\":dic_latitude})['지역']\n",
    "trash_18['경도']=trash_18.replace({\"지역\":dic_longitude})['지역']"
   ]
  },
  {
   "cell_type": "code",
   "execution_count": null,
   "metadata": {},
   "outputs": [],
   "source": []
  },
  {
   "cell_type": "code",
   "execution_count": null,
   "metadata": {},
   "outputs": [],
   "source": []
  },
  {
   "cell_type": "code",
   "execution_count": 12,
   "metadata": {},
   "outputs": [],
   "source": [
    "\n",
    "dic_latitude=dict(zip(d['지역'],d['위도']))\n",
    "dic_longitude=dict(zip(d['지역'],d['경도']))"
   ]
  },
  {
   "cell_type": "code",
   "execution_count": 13,
   "metadata": {},
   "outputs": [],
   "source": [
    "trash_19['위도']=trash_19.replace({\"지역\":dic_latitude})['지역']\n",
    "trash_19['경도']=trash_19.replace({\"지역\":dic_longitude})['지역']"
   ]
  },
  {
   "cell_type": "code",
   "execution_count": null,
   "metadata": {},
   "outputs": [],
   "source": []
  },
  {
   "cell_type": "code",
   "execution_count": null,
   "metadata": {},
   "outputs": [],
   "source": []
  },
  {
   "cell_type": "code",
   "execution_count": 16,
   "metadata": {},
   "outputs": [],
   "source": [
    "trash_19.to_csv(\"./data/trash_lalong_19.csv\",index=False)"
   ]
  },
  {
   "cell_type": "code",
   "execution_count": 28,
   "metadata": {},
   "outputs": [],
   "source": [
    "trash_18.to_csv(\"./data/trash_lalong_18.csv\",index=False,encoding='cp949')"
   ]
  },
  {
   "cell_type": "code",
   "execution_count": 32,
   "metadata": {},
   "outputs": [],
   "source": [
    "trash_08_17=pd.read_csv(\"data/trash_08_17.csv\",encoding='cp949')\n",
    "where2=list(set(trash_08_17['지역']))"
   ]
  },
  {
   "cell_type": "code",
   "execution_count": null,
   "metadata": {},
   "outputs": [],
   "source": [
    "d=open_browser(where2)"
   ]
  },
  {
   "cell_type": "code",
   "execution_count": 34,
   "metadata": {},
   "outputs": [],
   "source": [
    "dic_latitude=dict(zip(d['지역'],d['위도']))\n",
    "dic_longitude=dict(zip(d['지역'],d['경도']))"
   ]
  },
  {
   "cell_type": "code",
   "execution_count": 35,
   "metadata": {},
   "outputs": [],
   "source": [
    "trash_08_17['위도']=trash_08_17.replace({\"지역\":dic_latitude})['지역']\n",
    "trash_08_17['경도']=trash_08_17.replace({\"지역\":dic_longitude})['지역']"
   ]
  },
  {
   "cell_type": "code",
   "execution_count": 38,
   "metadata": {},
   "outputs": [],
   "source": [
    "trash_08_17.to_csv(\"./data/trash_lalong_08_17.csv\",index=False)"
   ]
  }
 ],
 "metadata": {
  "kernelspec": {
   "display_name": "Python 3",
   "language": "python",
   "name": "python3"
  },
  "language_info": {
   "codemirror_mode": {
    "name": "ipython",
    "version": 3
   },
   "file_extension": ".py",
   "mimetype": "text/x-python",
   "name": "python",
   "nbconvert_exporter": "python",
   "pygments_lexer": "ipython3",
   "version": "3.8.3"
  }
 },
 "nbformat": 4,
 "nbformat_minor": 4
}
